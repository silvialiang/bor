{
  "cells": [
    {
      "cell_type": "markdown",
      "id": "d585b739",
      "metadata": {
        "id": "d585b739"
      },
      "source": [
        "# An introduction to `relatio`\n",
        "**Runtime $\\sim$ 20min**\n",
        "\n",
        "Original paper: [\"Text Semantics Capture Political and Economic Narratives\"](https://arxiv.org/abs/2108.01720)\n",
        "\n",
        "----------------------------\n",
        "\n",
        "This is a short demo of the package `relatio`.  It takes as input a text corpus and outputs a list of narrative statements. The pipeline is unsupervised: the user does not need to specify narratives beforehand. Narrative statements are defined as tuples of semantic roles with a (agent, verb, patient) structure.\n",
        "\n",
        "Here, we present the main functions to quickly obtain narrative statements from a corpus.\n",
        "\n",
        "----------------------------\n",
        "\n",
        "In this tutorial, we work with the Trump Tweet Archive corpus.\n",
        "\n",
        "----------------------------"
      ]
    },
    {
      "cell_type": "code",
      "execution_count": 1,
      "id": "50c58fa5",
      "metadata": {
        "colab": {
          "base_uri": "https://localhost:8080/",
          "height": 634
        },
        "id": "50c58fa5",
        "outputId": "8e2d448e-acca-4ea1-8856-2cc625ca0b54"
      },
      "outputs": [
        {
          "output_type": "stream",
          "name": "stderr",
          "text": [
            "C:\\Users\\silvi\\anaconda3\\envs\\relatio\\lib\\site-packages\\tqdm\\auto.py:21: TqdmWarning: IProgress not found. Please update jupyter and ipywidgets. See https://ipywidgets.readthedocs.io/en/stable/user_install.html\n",
            "  from .autonotebook import tqdm as notebook_tqdm\n"
          ]
        },
        {
          "output_type": "error",
          "ename": "PermissionError",
          "evalue": "[Errno 13] Permission denied: 'C:\\\\relatio.log'",
          "traceback": [
            "\u001b[1;31m---------------------------------------------------------------------------\u001b[0m",
            "\u001b[1;31mPermissionError\u001b[0m                           Traceback (most recent call last)",
            "Cell \u001b[1;32mIn[1], line 3\u001b[0m\n\u001b[0;32m      1\u001b[0m \u001b[38;5;66;03m# Catch warnings for an easy ride\u001b[39;00m\n\u001b[0;32m      2\u001b[0m \u001b[38;5;28;01mfrom\u001b[39;00m\u001b[38;5;250m \u001b[39m\u001b[38;5;21;01mrelatio\u001b[39;00m\u001b[38;5;250m \u001b[39m\u001b[38;5;28;01mimport\u001b[39;00m FileLogger\n\u001b[1;32m----> 3\u001b[0m logger \u001b[38;5;241m=\u001b[39m \u001b[43mFileLogger\u001b[49m\u001b[43m(\u001b[49m\u001b[43mlevel\u001b[49m\u001b[43m \u001b[49m\u001b[38;5;241;43m=\u001b[39;49m\u001b[43m \u001b[49m\u001b[38;5;124;43m'\u001b[39;49m\u001b[38;5;124;43mWARNING\u001b[39;49m\u001b[38;5;124;43m'\u001b[39;49m\u001b[43m)\u001b[49m\n",
            "File \u001b[1;32m~\\anaconda3\\envs\\relatio\\lib\\site-packages\\relatio\\logging.py:52\u001b[0m, in \u001b[0;36mFileLogger.__init__\u001b[1;34m(self, file, capture_warnings, include_root_logger, level)\u001b[0m\n\u001b[0;32m     49\u001b[0m \u001b[38;5;28mformat\u001b[39m \u001b[38;5;241m=\u001b[39m \u001b[38;5;124m\"\u001b[39m\u001b[38;5;132;01m%(asctime)s\u001b[39;00m\u001b[38;5;124m - \u001b[39m\u001b[38;5;132;01m%(name)s\u001b[39;00m\u001b[38;5;124m - \u001b[39m\u001b[38;5;132;01m%(levelname)s\u001b[39;00m\u001b[38;5;124m - \u001b[39m\u001b[38;5;132;01m%(message)s\u001b[39;00m\u001b[38;5;124m\"\u001b[39m\n\u001b[0;32m     51\u001b[0m \u001b[38;5;66;03m# Create handler\u001b[39;00m\n\u001b[1;32m---> 52\u001b[0m \u001b[38;5;28mself\u001b[39m\u001b[38;5;241m.\u001b[39m_handler \u001b[38;5;241m=\u001b[39m \u001b[43mlogging\u001b[49m\u001b[38;5;241;43m.\u001b[39;49m\u001b[43mFileHandler\u001b[49m\u001b[43m(\u001b[49m\u001b[43mfilename\u001b[49m\u001b[38;5;241;43m=\u001b[39;49m\u001b[43mfile\u001b[49m\u001b[43m,\u001b[49m\u001b[43m \u001b[49m\u001b[43mmode\u001b[49m\u001b[38;5;241;43m=\u001b[39;49m\u001b[38;5;124;43m\"\u001b[39;49m\u001b[38;5;124;43mw\u001b[39;49m\u001b[38;5;124;43m\"\u001b[39;49m\u001b[43m)\u001b[49m\n\u001b[0;32m     53\u001b[0m \u001b[38;5;28mself\u001b[39m\u001b[38;5;241m.\u001b[39m_handler\u001b[38;5;241m.\u001b[39msetLevel(level)\n\u001b[0;32m     54\u001b[0m \u001b[38;5;28mself\u001b[39m\u001b[38;5;241m.\u001b[39m_handler\u001b[38;5;241m.\u001b[39msetFormatter(logging\u001b[38;5;241m.\u001b[39mFormatter(\u001b[38;5;28mformat\u001b[39m))\n",
            "File \u001b[1;32m~\\anaconda3\\envs\\relatio\\lib\\logging\\__init__.py:1146\u001b[0m, in \u001b[0;36mFileHandler.__init__\u001b[1;34m(self, filename, mode, encoding, delay, errors)\u001b[0m\n\u001b[0;32m   1144\u001b[0m     \u001b[38;5;28mself\u001b[39m\u001b[38;5;241m.\u001b[39mstream \u001b[38;5;241m=\u001b[39m \u001b[38;5;28;01mNone\u001b[39;00m\n\u001b[0;32m   1145\u001b[0m \u001b[38;5;28;01melse\u001b[39;00m:\n\u001b[1;32m-> 1146\u001b[0m     StreamHandler\u001b[38;5;241m.\u001b[39m\u001b[38;5;21m__init__\u001b[39m(\u001b[38;5;28mself\u001b[39m, \u001b[38;5;28;43mself\u001b[39;49m\u001b[38;5;241;43m.\u001b[39;49m\u001b[43m_open\u001b[49m\u001b[43m(\u001b[49m\u001b[43m)\u001b[49m)\n",
            "File \u001b[1;32m~\\anaconda3\\envs\\relatio\\lib\\logging\\__init__.py:1175\u001b[0m, in \u001b[0;36mFileHandler._open\u001b[1;34m(self)\u001b[0m\n\u001b[0;32m   1170\u001b[0m \u001b[38;5;28;01mdef\u001b[39;00m\u001b[38;5;250m \u001b[39m\u001b[38;5;21m_open\u001b[39m(\u001b[38;5;28mself\u001b[39m):\n\u001b[0;32m   1171\u001b[0m \u001b[38;5;250m    \u001b[39m\u001b[38;5;124;03m\"\"\"\u001b[39;00m\n\u001b[0;32m   1172\u001b[0m \u001b[38;5;124;03m    Open the current base file with the (original) mode and encoding.\u001b[39;00m\n\u001b[0;32m   1173\u001b[0m \u001b[38;5;124;03m    Return the resulting stream.\u001b[39;00m\n\u001b[0;32m   1174\u001b[0m \u001b[38;5;124;03m    \"\"\"\u001b[39;00m\n\u001b[1;32m-> 1175\u001b[0m     \u001b[38;5;28;01mreturn\u001b[39;00m \u001b[38;5;28;43mopen\u001b[39;49m\u001b[43m(\u001b[49m\u001b[38;5;28;43mself\u001b[39;49m\u001b[38;5;241;43m.\u001b[39;49m\u001b[43mbaseFilename\u001b[49m\u001b[43m,\u001b[49m\u001b[43m \u001b[49m\u001b[38;5;28;43mself\u001b[39;49m\u001b[38;5;241;43m.\u001b[39;49m\u001b[43mmode\u001b[49m\u001b[43m,\u001b[49m\u001b[43m \u001b[49m\u001b[43mencoding\u001b[49m\u001b[38;5;241;43m=\u001b[39;49m\u001b[38;5;28;43mself\u001b[39;49m\u001b[38;5;241;43m.\u001b[39;49m\u001b[43mencoding\u001b[49m\u001b[43m,\u001b[49m\n\u001b[0;32m   1176\u001b[0m \u001b[43m                \u001b[49m\u001b[43merrors\u001b[49m\u001b[38;5;241;43m=\u001b[39;49m\u001b[38;5;28;43mself\u001b[39;49m\u001b[38;5;241;43m.\u001b[39;49m\u001b[43merrors\u001b[49m\u001b[43m)\u001b[49m\n",
            "\u001b[1;31mPermissionError\u001b[0m: [Errno 13] Permission denied: 'C:\\\\relatio.log'"
          ]
        }
      ],
      "source": [
        "# Catch warnings for an easy ride\n",
        "from relatio import FileLogger\n",
        "logger = FileLogger(level = 'WARNING')"
      ]
    },
    {
      "cell_type": "code",
      "execution_count": null,
      "id": "90059add",
      "metadata": {
        "id": "90059add"
      },
      "outputs": [],
      "source": [
        "from relatio import load_data\n",
        "df = load_data(dataset = \"trump_tweet_archive\", content = \"raw\")"
      ]
    },
    {
      "cell_type": "code",
      "execution_count": null,
      "id": "b8f7b806",
      "metadata": {
        "id": "b8f7b806"
      },
      "outputs": [],
      "source": [
        "from relatio import Preprocessor\n",
        "\n",
        "p = Preprocessor(\n",
        "    spacy_model = \"en_core_web_sm\",\n",
        "    remove_punctuation = True,\n",
        "    remove_digits = True,\n",
        "    lowercase = True,\n",
        "    lemmatize = True,\n",
        "    remove_chars = [\"\\\"\",'-',\"^\",\".\",\"?\",\"!\",\";\",\"(\",\")\",\",\",\":\",\"\\'\",\"+\",\"&\",\"|\",\"/\",\"{\",\"}\",\n",
        "                    \"~\",\"_\",\"`\",\"[\",\"]\",\">\",\"<\",\"=\",\"*\",\"%\",\"$\",\"@\",\"#\",\"’\"],\n",
        "    stop_words = [],\n",
        "    n_process = -1,\n",
        "    batch_size = 100\n",
        ")"
      ]
    },
    {
      "cell_type": "code",
      "execution_count": null,
      "id": "68c4449e",
      "metadata": {
        "id": "68c4449e"
      },
      "outputs": [],
      "source": [
        "df = p.split_into_sentences(\n",
        "    df, output_path = None, progress_bar = True\n",
        ")"
      ]
    },
    {
      "cell_type": "code",
      "execution_count": null,
      "id": "1bd7bf8d",
      "metadata": {
        "id": "1bd7bf8d"
      },
      "outputs": [],
      "source": [
        "from relatio import SRL\n",
        "\n",
        "SRL = SRL(\n",
        "    path = \"https://storage.googleapis.com/allennlp-public-models/openie-model.2020.03.26.tar.gz\",\n",
        "    batch_size = 10,\n",
        "    cuda_device = -1\n",
        ")\n",
        "\n",
        "srl_res = SRL(df['sentence'][0:1000], progress_bar=True)\n",
        "\n",
        "from relatio import extract_roles\n",
        "\n",
        "roles, sentence_index = extract_roles(\n",
        "    srl_res,\n",
        "    used_roles = [\"ARG0\",\"B-V\",\"B-ARGM-NEG\",\"B-ARGM-MOD\",\"ARG1\",\"ARG2\"],\n",
        "    only_triplets = True,\n",
        "    progress_bar = True\n",
        ")\n",
        "\n",
        "for d in roles[0:20]: print(d)"
      ]
    },
    {
      "cell_type": "code",
      "execution_count": null,
      "id": "b07a1b80",
      "metadata": {
        "id": "b07a1b80"
      },
      "outputs": [],
      "source": [
        "sentence_index, roles = p.extract_svos(df['sentence'], expand_nouns = True, only_triplets = False, progress_bar = True)\n",
        "for svo in roles[0:20]: print(svo)"
      ]
    },
    {
      "cell_type": "code",
      "execution_count": null,
      "id": "aaed9e7d",
      "metadata": {
        "id": "aaed9e7d"
      },
      "outputs": [],
      "source": [
        "postproc_roles = p.process_roles(roles,\n",
        "                                 max_length = 50,\n",
        "                                 progress_bar = True,\n",
        "                                 output_path = './output/postproc_roles.json')"
      ]
    },
    {
      "cell_type": "code",
      "execution_count": null,
      "id": "d8809573",
      "metadata": {
        "id": "d8809573"
      },
      "outputs": [],
      "source": [
        "for d in postproc_roles[0:20]: print(d)"
      ]
    },
    {
      "cell_type": "code",
      "execution_count": null,
      "id": "691b9eed",
      "metadata": {
        "id": "691b9eed"
      },
      "outputs": [],
      "source": [
        "from relatio.utils import load_roles\n",
        "postproc_roles = load_roles('./output/postproc_roles.json')"
      ]
    },
    {
      "cell_type": "code",
      "execution_count": null,
      "id": "ba2918f4",
      "metadata": {
        "id": "ba2918f4"
      },
      "outputs": [],
      "source": [
        "known_entities = p.mine_entities(\n",
        "    df['sentence'],\n",
        "    clean_entities = True,\n",
        "    progress_bar = True,\n",
        "    output_path = './output/entities.pkl'\n",
        ")\n",
        "\n",
        "for n in known_entities.most_common(10): print(n)"
      ]
    },
    {
      "cell_type": "code",
      "execution_count": null,
      "id": "26666867",
      "metadata": {
        "id": "26666867"
      },
      "outputs": [],
      "source": [
        "from relatio.utils import load_entities\n",
        "known_entities = load_entities('./output/entities.pkl')\n",
        "\n",
        "top_known_entities = [e[0] for e in list(known_entities.most_common(100)) if e[0] != '']"
      ]
    },
    {
      "cell_type": "code",
      "execution_count": null,
      "id": "a1a2fe84",
      "metadata": {
        "scrolled": true,
        "id": "a1a2fe84"
      },
      "outputs": [],
      "source": [
        "from relatio.narrative_models import NarrativeModel\n",
        "\n",
        "m = NarrativeModel(\n",
        "    clustering = 'kmeans',\n",
        "    PCA = True,\n",
        "    UMAP = True,\n",
        "    roles_considered = ['ARG0', 'B-V', 'B-ARGM-NEG', 'ARG1'],\n",
        "    roles_with_known_entities = ['ARG0','ARG1'],\n",
        "    known_entities = top_known_entities,\n",
        "    assignment_to_known_entities = 'embeddings',\n",
        "    roles_with_unknown_entities = ['ARG0','ARG1'],\n",
        "    threshold = 0.1\n",
        ")\n",
        "\n",
        "m.fit(postproc_roles, progress_bar = True)"
      ]
    },
    {
      "cell_type": "code",
      "execution_count": null,
      "id": "1c0fca17",
      "metadata": {
        "id": "1c0fca17"
      },
      "outputs": [],
      "source": [
        "m.plot_selection_metric(metric = 'inertia')"
      ]
    },
    {
      "cell_type": "code",
      "execution_count": null,
      "id": "91770832",
      "metadata": {
        "id": "91770832"
      },
      "outputs": [],
      "source": [
        "m.plot_clusters(path = './output/clusters.pdf')"
      ]
    },
    {
      "cell_type": "code",
      "execution_count": null,
      "id": "7993e3ce",
      "metadata": {
        "id": "7993e3ce"
      },
      "outputs": [],
      "source": [
        "m.clusters_to_txt(path = './output/clusters.txt')"
      ]
    },
    {
      "cell_type": "code",
      "execution_count": null,
      "id": "f1298643",
      "metadata": {
        "id": "f1298643"
      },
      "outputs": [],
      "source": [
        "narratives = m.predict(postproc_roles, progress_bar = True)"
      ]
    },
    {
      "cell_type": "code",
      "execution_count": null,
      "id": "0b7dbeb3",
      "metadata": {
        "id": "0b7dbeb3"
      },
      "outputs": [],
      "source": [
        "from relatio.utils import prettify\n",
        "\n",
        "pretty_narratives = []\n",
        "for n in narratives:\n",
        "    pretty_narratives.append(prettify(n))\n",
        "\n",
        "for i in range(10):\n",
        "    print(roles[i])\n",
        "    print(postproc_roles[i])\n",
        "    print(pretty_narratives[i])"
      ]
    },
    {
      "cell_type": "code",
      "execution_count": null,
      "id": "1e38e7a8",
      "metadata": {
        "id": "1e38e7a8"
      },
      "outputs": [],
      "source": [
        "from relatio import build_graph, draw_graph\n",
        "\n",
        "G = build_graph(\n",
        "    narratives,\n",
        "    top_n = 100,\n",
        "    prune_network = True\n",
        ")\n",
        "\n",
        "draw_graph(\n",
        "    G,\n",
        "    notebook = True,\n",
        "    show_buttons = False,\n",
        "    width=\"1600px\",\n",
        "    height=\"1000px\",\n",
        "    output_filename = './output/network_of_narratives.html'\n",
        "    )"
      ]
    },
    {
      "cell_type": "code",
      "execution_count": null,
      "id": "ddb9e8c3",
      "metadata": {
        "id": "ddb9e8c3"
      },
      "outputs": [],
      "source": [
        "import pickle as pk\n",
        "\n",
        "with open('./output/narrative_model.pkl','wb') as f:\n",
        "    pk.dump(m,f)"
      ]
    },
    {
      "cell_type": "code",
      "execution_count": null,
      "id": "2f60cad2",
      "metadata": {
        "id": "2f60cad2"
      },
      "outputs": [],
      "source": [
        "with open('./output/narrative_model.pkl','rb') as f:\n",
        "    m = pk.load(f)"
      ]
    }
  ],
  "metadata": {
    "kernelspec": {
      "display_name": "Python 3 (ipykernel)",
      "language": "python",
      "name": "python3"
    },
    "language_info": {
      "codemirror_mode": {
        "name": "ipython",
        "version": 3
      },
      "file_extension": ".py",
      "mimetype": "text/x-python",
      "name": "python",
      "nbconvert_exporter": "python",
      "pygments_lexer": "ipython3",
      "version": "3.7.15"
    },
    "colab": {
      "provenance": []
    }
  },
  "nbformat": 4,
  "nbformat_minor": 5
}